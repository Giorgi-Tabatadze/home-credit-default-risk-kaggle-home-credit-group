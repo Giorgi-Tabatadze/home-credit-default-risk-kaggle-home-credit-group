{
 "cells": [
  {
   "cell_type": "code",
   "execution_count": 1,
   "metadata": {},
   "outputs": [],
   "source": [
    "import pandas as pd\n",
    "import numpy as np\n",
    "import featuretools as ft\n",
    "\n",
    "from sklearn.model_selection import KFold, train_test_split\n",
    "from sklearn.metrics import roc_auc_score\n",
    "\n",
    "import warnings\n",
    "\n",
    "# Or, to specifically ignore LightGBM warnings:\n",
    "warnings.filterwarnings('ignore')"
   ]
  },
  {
   "cell_type": "code",
   "execution_count": 2,
   "metadata": {},
   "outputs": [],
   "source": [
    "#!pip install --upgrade numpy pandas matplotlib seaborn woodwork featuretools scikit-learn pyarrow hyperopt dask"
   ]
  },
  {
   "cell_type": "code",
   "execution_count": 4,
   "metadata": {},
   "outputs": [],
   "source": [
    "train_control = pd.read_csv(\"./application_train.csv\")\n",
    "test_control = pd.read_csv(\"./application_test.csv\")"
   ]
  },
  {
   "cell_type": "code",
   "execution_count": 5,
   "metadata": {},
   "outputs": [],
   "source": [
    "app_initial = pd.concat([train_control, test_control], ignore_index=True, sort=True)"
   ]
  },
  {
   "cell_type": "code",
   "execution_count": 6,
   "metadata": {},
   "outputs": [],
   "source": [
    "general_features = pd.read_csv('./input/general_features.csv')\n",
    "time_features = pd.read_csv('./input/time_features.csv')\n",
    "merged_df = general_features.merge(time_features, on='SK_ID_CURR')"
   ]
  },
  {
   "cell_type": "code",
   "execution_count": 7,
   "metadata": {},
   "outputs": [],
   "source": [
    "merged_df = merged_df.merge(app_initial, on='SK_ID_CURR')\n",
    "merged_df = merged_df.sort_values(by='SK_ID_CURR')"
   ]
  },
  {
   "cell_type": "code",
   "execution_count": 8,
   "metadata": {},
   "outputs": [
    {
     "data": {
      "text/plain": [
       "0"
      ]
     },
     "execution_count": 8,
     "metadata": {},
     "output_type": "execute_result"
    }
   ],
   "source": [
    "del general_features,time_features, train_control, test_control, app_initial\n",
    "\n",
    "import gc\n",
    "gc.collect()"
   ]
  },
  {
   "cell_type": "code",
   "execution_count": 9,
   "metadata": {},
   "outputs": [],
   "source": [
    "#merged_df.columns = [col.replace('{', '/').replace('}', '/').replace('[', '/').replace(']', '/').replace(':', '-').replace(',', '') for col in merged_df.columns]"
   ]
  },
  {
   "cell_type": "code",
   "execution_count": 10,
   "metadata": {},
   "outputs": [],
   "source": [
    "app_train = merged_df[merged_df[\"TARGET\"].notnull()]\n",
    "app_test = merged_df[merged_df[\"TARGET\"].isna()]"
   ]
  },
  {
   "cell_type": "code",
   "execution_count": 11,
   "metadata": {},
   "outputs": [
    {
     "data": {
      "text/plain": [
       "0"
      ]
     },
     "execution_count": 11,
     "metadata": {},
     "output_type": "execute_result"
    }
   ],
   "source": [
    "del merged_df\n",
    "\n",
    "import gc\n",
    "gc.collect()"
   ]
  },
  {
   "cell_type": "code",
   "execution_count": 12,
   "metadata": {},
   "outputs": [],
   "source": [
    "app_train = ft.selection.remove_highly_null_features(app_train, pct_null_threshold=0.75)\n",
    "app_train, app_test = app_train.align(app_test, join = 'inner', axis = 1)"
   ]
  },
  {
   "cell_type": "code",
   "execution_count": 13,
   "metadata": {},
   "outputs": [],
   "source": [
    "app_train = pd.get_dummies(app_train)\n",
    "app_test = pd.get_dummies(app_test)"
   ]
  },
  {
   "cell_type": "code",
   "execution_count": 14,
   "metadata": {},
   "outputs": [],
   "source": [
    "#import dask.dataframe as dd\n",
    "\n",
    "#dask_df = dd.from_pandas(sampled_df, npartitions=6) \n",
    "#corr_matrix_dask = dask_df.corr().abs().compute()\n",
    "#corr_matrix_dask.to_csv(\"correlation_matrix.csv\")"
   ]
  },
  {
   "cell_type": "code",
   "execution_count": 15,
   "metadata": {},
   "outputs": [],
   "source": [
    "corr_matrix = pd.read_csv(\"correlation_matrix.csv\", index_col=0)\n",
    "threshold = 0.9\n",
    "\n",
    "mask = np.triu(np.ones_like(corr_matrix, dtype=bool), k=1)\n",
    "\n",
    "pairs = corr_matrix.where(mask).stack()\n",
    "high_corr_pairs = pairs[pairs > threshold]"
   ]
  },
  {
   "cell_type": "code",
   "execution_count": 16,
   "metadata": {},
   "outputs": [],
   "source": [
    "cols_to_drop = set()\n",
    "for col1, col2 in high_corr_pairs.index:\n",
    "    cols_to_drop.add(col2) "
   ]
  },
  {
   "cell_type": "code",
   "execution_count": 17,
   "metadata": {},
   "outputs": [],
   "source": [
    "app_train = app_train.drop(columns=list(cols_to_drop))\n",
    "app_test = app_test.drop(columns=list(cols_to_drop))"
   ]
  },
  {
   "cell_type": "code",
   "execution_count": 18,
   "metadata": {},
   "outputs": [],
   "source": [
    "app_train, app_test = app_train.align(app_test, join = 'inner', axis = 1)"
   ]
  },
  {
   "cell_type": "code",
   "execution_count": 19,
   "metadata": {},
   "outputs": [
    {
     "name": "stdout",
     "output_type": "stream",
     "text": [
      "Train shape:  (307511, 1249)\n",
      "Test shape:  (48744, 1249)\n"
     ]
    }
   ],
   "source": [
    "print('Train shape: ', app_train.shape)\n",
    "print('Test shape: ', app_test.shape)"
   ]
  },
  {
   "cell_type": "code",
   "execution_count": 21,
   "metadata": {},
   "outputs": [],
   "source": [
    "app_train.to_csv(\"cleaned_train.csv\")\n",
    "app_test.to_csv(\"cleaned_test.csv\")"
   ]
  },
  {
   "cell_type": "code",
   "execution_count": 22,
   "metadata": {},
   "outputs": [],
   "source": [
    "train_labels = np.array(app_train['TARGET'].astype(np.int32)).reshape((-1, ))\n",
    "\n",
    "train_ids = app_train['SK_ID_CURR']\n",
    "test_ids = app_test['SK_ID_CURR']\n",
    "\n",
    "app_train = app_train.drop(columns = ['SK_ID_CURR', \"TARGET\"])\n",
    "app_test = app_test.drop(columns = ['SK_ID_CURR', \"TARGET\"])"
   ]
  }
 ],
 "metadata": {
  "kernelspec": {
   "display_name": "Python 3 (ipykernel)",
   "language": "python",
   "name": "python3"
  }
 },
 "nbformat": 4,
 "nbformat_minor": 2
}
